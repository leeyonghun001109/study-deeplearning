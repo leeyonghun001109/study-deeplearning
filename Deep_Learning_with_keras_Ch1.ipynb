{
  "nbformat": 4,
  "nbformat_minor": 0,
  "metadata": {
    "colab": {
      "name": "Deep Learning with keras - Ch1.ipynb",
      "provenance": [],
      "collapsed_sections": [],
      "authorship_tag": "ABX9TyNdcHS+REF7qOGyTejkgdg/",
      "include_colab_link": true
    },
    "kernelspec": {
      "name": "python3",
      "display_name": "Python 3"
    },
    "language_info": {
      "name": "python"
    }
  },
  "cells": [
    {
      "cell_type": "markdown",
      "metadata": {
        "id": "view-in-github",
        "colab_type": "text"
      },
      "source": [
        "<a href=\"https://colab.research.google.com/github/leeyonghun001109/study-deeplearning/blob/main/Deep_Learning_with_keras_Ch1.ipynb\" target=\"_parent\"><img src=\"https://colab.research.google.com/assets/colab-badge.svg\" alt=\"Open In Colab\"/></a>"
      ]
    },
    {
      "cell_type": "markdown",
      "metadata": {
        "id": "YaZ0gWUG26kP"
      },
      "source": [
        "# **1. 딥러닝이란 무엇인가?**"
      ]
    },
    {
      "cell_type": "markdown",
      "metadata": {
        "id": "zL5q7yGKIwYn"
      },
      "source": [
        "# **1.1 인공지능과 머신러닝, 덥러닝**"
      ]
    },
    {
      "cell_type": "markdown",
      "metadata": {
        "id": "EewcE6B72-R8"
      },
      "source": [
        "**1.1.1 인공지능**\n",
        "\n",
        "보통의 사람이 수행하는 지능적인 작업을 자동화하기 위한 연구 활동\n",
        "\n",
        "AI : 머신러닝과 딥러닝을 포괄하는 종합적인 분야\n",
        "\n",
        "\n"
      ]
    },
    {
      "cell_type": "markdown",
      "metadata": {
        "id": "W_HsG4YX5NyD"
      },
      "source": [
        "**1.1.2 머신 러닝**\n",
        "\n",
        "심볼릭 AI : 규칙(프고그램)과 이에 따라 처리될 데이터를 입력핳면 해답이 출력\n",
        "\n",
        "머신러닝 : 데이터와 이 데이터로부터 기대되는 답을 입력하면 규칙이 출력됨\n",
        "\n",
        "\n",
        "머신 러닝 시스템 - 훈련(training) "
      ]
    },
    {
      "cell_type": "markdown",
      "metadata": {
        "id": "FP6DOrEz6UWA"
      },
      "source": [
        "**1.1.3 데이터에서 표현을 학습하기**\n",
        "\n",
        "**머신 러닝**\n",
        "\n",
        "\n",
        "> 샘플과 기댓값이 주어졌을 때 데이터 처리 작업을 위한 실행 규칙을 찾는 것\n",
        "\n",
        "\n",
        "\n",
        "1.   입력 데이터 포인트\n",
        "2.   기대 출력\n",
        "3.   알고리즘 성능을 측정하는 방법(학습 / learning)\n",
        "\n",
        ">  머신 러닝과 딥러닝의 핵심 문제는 의미있는 데이터로의 변환\n",
        "> > 입력 데이터를 기반으로 기대 출력에 가깝게 만드는 유용한 표현 (feature) 을 학습하는 것\n",
        "\n",
        "> learning : 더 나은 feature을 찾는 자동화된 과정\n",
        "\n",
        "> (기술적) 머신 러닝 : 가능성 있는 공간을 사전에 정의하고 피드백 신호의 도움을 받아 입력 데이터에 대한 유용한 변환을 찾는 것\n",
        "\n",
        "\n",
        "\n",
        "\n",
        "\n",
        "\n",
        "\n",
        "\n",
        "\n",
        "\n"
      ]
    },
    {
      "cell_type": "markdown",
      "metadata": {
        "id": "lrAuebca7XA3"
      },
      "source": [
        "**1.1.4 딥러닝에서 'deep' 이란 무엇일까?**\n",
        "\n",
        "**딥러닝**\n",
        "\n",
        "> 연속된 layer에서 점진적으로 의미 있는 표현을 배우는 데 강점, 데이터로부터 featrue을 학습하는 새로운 방식임\n",
        "\n",
        "> deep learning에서의 deep  : 연속된 층으로 표현을 학습한다는 개념 (얼마나 많은 layer들을 사용하였는가)\n",
        "\n",
        "> layered respresentations learning (층 기반 표현 학습) 혹은 hierarchical representations learning (계층적 푷현 학습)\n",
        "\n",
        ">  neural network (신경망) : 기본 layer을 겹겹이 쌓아 올려 구성\n",
        "\n",
        "> layer의 경우 처음에는 기초적인 feature등을 잡아내며 깊어질 수록 원래에서 벗어난 것을 추출하게 됨\n"
      ]
    },
    {
      "cell_type": "markdown",
      "metadata": {
        "id": "K0C-eaHb8uiv"
      },
      "source": [
        "**1.1.5 그림 3개로 딥러닝의 작동 원리 이해하기**\n",
        "\n",
        "**weight (가중치)**\n",
        " \n",
        " > layer에서 input data가 처리되는 내용을 일련의 숫자로 저장시키는 곳\n",
        "\n",
        "**parameter (파라미터)**\n",
        "\n",
        "> 어떤 layer에서 일어나는 변환\n",
        "\n",
        "\n",
        "**training** \n",
        ">  주어진 input을 정확한 타깃에 매핑하기 위해 신경망의 모든 layer에 있는 weights 값을 찾는 것\n",
        "\n",
        "**loss function (손실 함수) or objective function(목적 함수)**\n",
        "> 신경망의 output을 제어하고자 output이 기대하는 것보다 얼마나 벗어났는지를 측정\n",
        "\n",
        "*   신경망이 한 샘플에 대해 얼마나 잘 예측했는지 측정하기 위해 loss function이 신경망의 예측과 진짜 타깃의 차이를 점수로 계산\n",
        "*   해당 점수를 피드백 신호로 사용하여 현재 샘플의 손실 점수가 감소되는 방향으로 가중치를 조정\n",
        "\n",
        ">> 즉, loss 점수가 감소되는 방향으로 가중치 값을 조금씩 수정하는 것\n",
        "\n",
        "\n",
        "**optimizer (옵티마이저)**\n",
        "\n",
        "> 역전파(Backpropagation) 알고리즘을 구현 / 수정 과정 담당\n",
        "\n",
        "**training loop (훈련 반복)**\n",
        "\n",
        "> 샘플을 처리하면서 weight를 조금씩 조정하며 loss 점수를 감소시키는 과정\n",
        "\n",
        "> 어느정도 반복을 할 경우 loss function을 최소화하는 weight 값을 산출\n"
      ]
    },
    {
      "cell_type": "markdown",
      "metadata": {
        "id": "231VGqOi_ynS"
      },
      "source": [
        "# **1.2 딥러닝 이전 : 머신 러닝의 간략한 역사**"
      ]
    },
    {
      "cell_type": "markdown",
      "metadata": {
        "id": "_da_oT7CMlrW"
      },
      "source": [
        "**1.2.1 확률적 모델링**\n",
        "\n",
        "확률적 모델링 (probabilistic modeling)\n",
        "> 통계학 이론을 데이터 분석에 응용한 것\n",
        "\n",
        "로지스틱 회귀 (losgistic regression)\n",
        "> 분류 (classification) 알고리즘\n"
      ]
    },
    {
      "cell_type": "markdown",
      "metadata": {
        "id": "LYxk4V-GQTpw"
      },
      "source": [
        "**1.2.2 초창기 신경망**"
      ]
    },
    {
      "cell_type": "markdown",
      "metadata": {
        "id": "TwF8CwJ0NBnz"
      },
      "source": [
        "**1.2.3 커널 방법**\n",
        "\n",
        "커널 기법 (kernel trick)\n",
        "\n",
        "커널 함수 (kernel function)\n",
        "\n"
      ]
    },
    {
      "cell_type": "markdown",
      "metadata": {
        "id": "0PC0m9S8OvT8"
      },
      "source": [
        "**1.2.4  결정 트리, 랜덤 포레스트, 그래디언트 부스팅 머신**\n",
        "\n",
        "**decision tree (결정 트리)**\n",
        "> flow chart(플로차트) 의 구조를 지니며 입력 데이터 포인트를 분류, 주어진 입력에 대해 출력 값을 예측\n",
        "\n",
        "**Random Forest (랜덤 포레스트)**\n",
        "> 결정 트리 학습에 기초한 것으로 안정적이고 실전에서 유용\n",
        "> 서로 다른 결정 트리를 많이 만들고 그 출력을 앙상블하는 방법을 사용\n",
        "\n",
        "**gradient boosting machine (그래디언트 부스팅 머신)**\n",
        "> 이전 모델에서 놓친 데이터 포인트를 보완하는 새로운 모델을 반복적으로 훈련\n",
        "\n",
        "\n"
      ]
    },
    {
      "cell_type": "markdown",
      "metadata": {
        "id": "AwbXwizPQXrq"
      },
      "source": [
        "**1.2.5 다시 신경망으로**"
      ]
    },
    {
      "cell_type": "markdown",
      "metadata": {
        "id": "i-Yvv9g_QGBd"
      },
      "source": [
        "**1.2.6 딥러닝의 특징**\n",
        "\n",
        "deep learning의 변환 능력 : 모델이 모든 표현 층을 순차적이 아니라 동시에 공동으로 학습\n",
        "\n",
        "1.   층울 고치면서 점진적으로 더 복잡한 표현이 만들어짐\n",
        "2.   점진적인 중간 표현이 공동으로 학습\n",
        "\n",
        "\n",
        "\n",
        "\n"
      ]
    },
    {
      "cell_type": "markdown",
      "metadata": {
        "id": "FC553mwbWtZq"
      },
      "source": [
        "**1.2.7 머신 러닝의 최근 동향**"
      ]
    },
    {
      "cell_type": "markdown",
      "metadata": {
        "id": "0vCWI0q8WyGp"
      },
      "source": [
        "# **1.3 왜 딥러닝일까? 왜 지금일까?**"
      ]
    },
    {
      "cell_type": "markdown",
      "metadata": {
        "id": "PqsTqE1mdHAd"
      },
      "source": [
        "**1.3.1 하드웨어**"
      ]
    },
    {
      "cell_type": "markdown",
      "metadata": {
        "id": "-n4eJKKOdPAn"
      },
      "source": [
        "**1.3.2 데이터**\n",
        "\n",
        "IamgeNet 데이터셋 : 1,400만 개의 이미지를 1,000개의 범주로 구분해 놓은 것\n",
        "\n"
      ]
    },
    {
      "cell_type": "markdown",
      "metadata": {
        "id": "sfxCa7B-ez_W"
      },
      "source": [
        "**1.3.3 알고리즘**\n",
        "\n",
        "*   신경망의 층에 더 잘 맞는 활성화 함수(activation function)\n",
        "*   층별 사전 훈련 (pretraining)을 불필요하게 만든 가중치 초기화 (weight initialization) 방법\n",
        "*   RMSProp과 Adam 같은 더 좋은 최적화 방법"
      ]
    },
    {
      "cell_type": "markdown",
      "metadata": {
        "id": "BvJJNi75fTMf"
      },
      "source": [
        "**1.3.4 새로운 투자의 바람**"
      ]
    },
    {
      "cell_type": "markdown",
      "metadata": {
        "id": "PpwUADRMfXti"
      },
      "source": [
        "**1.3.5 딥러닝의 대중화**"
      ]
    },
    {
      "cell_type": "markdown",
      "metadata": {
        "id": "bmn2ixjLfb4M"
      },
      "source": [
        "**1.3.6 지속될까?**\n",
        "\n",
        "*   단순함\n",
        "*   확장성\n",
        "*   다용도와 재사용성\n",
        "\n",
        "\n",
        "\n"
      ]
    }
  ]
}